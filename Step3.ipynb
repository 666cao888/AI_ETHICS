{
 "cells": [
  {
   "attachments": {},
   "cell_type": "markdown",
   "metadata": {},
   "source": [
    "**Note: Run code cells in sequential order.**"
   ]
  },
  {
   "cell_type": "code",
   "execution_count": 1,
   "metadata": {},
   "outputs": [],
   "source": [
    "import pandas as pd\n",
    "import matplotlib.pyplot as plt\n",
    "import numpy as np\n",
    "raw_data = pd.read_csv(\"Data/bank.csv\", delimiter=\";\")"
   ]
  },
  {
   "attachments": {},
   "cell_type": "markdown",
   "metadata": {},
   "source": [
    "# Step 3 (1)\n",
    "Based on your dataset, identify the privileged/unprivileged groups associated with each of your protected class variables."
   ]
  },
  {
   "cell_type": "code",
   "execution_count": 2,
   "metadata": {},
   "outputs": [
    {
     "name": "stdout",
     "output_type": "stream",
     "text": [
      "     age      marital   y\n",
      "0  young      married  no\n",
      "1  young      married  no\n",
      "2  young  not married  no\n",
      "3  young      married  no\n",
      "4    old      married  no\n"
     ]
    },
    {
     "name": "stderr",
     "output_type": "stream",
     "text": [
      "C:\\Users\\woshi\\AppData\\Local\\Temp/ipykernel_13672/2334193682.py:6: SettingWithCopyWarning: \n",
      "A value is trying to be set on a copy of a slice from a DataFrame.\n",
      "Try using .loc[row_indexer,col_indexer] = value instead\n",
      "\n",
      "See the caveats in the documentation: https://pandas.pydata.org/pandas-docs/stable/user_guide/indexing.html#returning-a-view-versus-a-copy\n",
      "  fairness_data['age'] = fairness_data['age'].apply(lambda x: 'old' if x > 45 else 'young')\n",
      "C:\\Users\\woshi\\AppData\\Local\\Temp/ipykernel_13672/2334193682.py:7: SettingWithCopyWarning: \n",
      "A value is trying to be set on a copy of a slice from a DataFrame.\n",
      "Try using .loc[row_indexer,col_indexer] = value instead\n",
      "\n",
      "See the caveats in the documentation: https://pandas.pydata.org/pandas-docs/stable/user_guide/indexing.html#returning-a-view-versus-a-copy\n",
      "  fairness_data['marital'] = fairness_data['marital'].apply(lambda x: 'married' if x == 'married' else 'not married')\n"
     ]
    }
   ],
   "source": [
    "# print('Protected classes: age and marital')\n",
    "# print('Privileged groups: age -> old (age>45); marital -> married')\n",
    "# print('Unprivileged groups: age -> young (age<=45); marital -> not married')\n",
    "\n",
    "fairness_data = raw_data[['age', 'marital', 'y']]\n",
    "fairness_data['age'] = fairness_data['age'].apply(lambda x: 'old' if x > 45 else 'young')\n",
    "fairness_data['marital'] = fairness_data['marital'].apply(lambda x: 'married' if x == 'married' else 'not married')\n",
    "print(fairness_data.head())"
   ]
  },
  {
   "attachments": {},
   "cell_type": "markdown",
   "metadata": {},
   "source": [
    "# Step 3 (2)\n",
    "For each protected class variable, select two fairness metrics and compute the fairness metrics associated with your privileged/unprivileged groups as a function of each of your two dependent variables."
   ]
  },
  {
   "cell_type": "code",
   "execution_count": 3,
   "metadata": {},
   "outputs": [],
   "source": [
    "# print('Fairness metrics selected: Disparate Impact and Equal Opportunity Difference.')\n",
    "# create a confusion matrix\n",
    "confusion_matrix_age = pd.crosstab(fairness_data['age'], fairness_data['y'])\n",
    "\n",
    "# calculate the number of individuals in each group\n",
    "n_old = confusion_matrix_age.loc['old'].sum()\n",
    "n_young = confusion_matrix_age.loc['young'].sum()\n",
    "\n",
    "n_old_yes = confusion_matrix_age.loc['old', 'yes']\n",
    "n_young_yes = confusion_matrix_age.loc['young', 'yes']\n",
    "\n",
    "n_old_no = confusion_matrix_age.loc['old', 'no']\n",
    "n_young_no = confusion_matrix_age.loc['young', 'no']\n",
    "\n",
    "# calculate the overall proportion of individuals that were classified as 'yes'\n",
    "p_yes = (n_old_yes + n_young_yes) / (n_old + n_young)\n",
    "\n",
    "# calculate the proportion of individuals in each group that were classified as 'yes'\n",
    "p_old_yes = n_old_yes / n_old\n",
    "p_young_yes = n_young_yes / n_young\n",
    "\n",
    "# calculate metrics\n",
    "disparate_impact_age = p_old_yes / p_young_yes\n",
    "equal_opportunity_difference_age = abs(p_old_yes - p_young_yes)\n",
    "# print('Age group Disparate Impact:', disparate_impact_age)\n",
    "# print('Age group Equal Opportunity Difference:', equal_opportunity_difference_age)\n",
    "\n",
    "# create a confusion matrix\n",
    "confusion_matrix_marital = pd.crosstab(fairness_data['marital'], fairness_data['y'])\n",
    "\n",
    "# calculate the number of individuals in each group\n",
    "n_married = confusion_matrix_marital.loc['married'].sum()\n",
    "n_not_married = confusion_matrix_marital.loc['not married'].sum()\n",
    "\n",
    "n_married_yes = confusion_matrix_marital.loc['married', 'yes']\n",
    "n_not_married_yes = confusion_matrix_marital.loc['not married', 'yes']\n",
    "\n",
    "n_married_no = confusion_matrix_marital.loc['married', 'no']\n",
    "n_not_married_no = confusion_matrix_marital.loc['not married', 'no']\n",
    "\n",
    "# calculate the overall proportion of individuals that were classified as 'yes'\n",
    "p_yes = (n_married_yes + n_not_married_yes) / (n_married + n_not_married)\n",
    "\n",
    "# calculate the proportion of individuals in each group that were classified as 'yes'\n",
    "p_married_yes = n_married_yes / n_married\n",
    "p_not_married_yes = n_not_married_yes / n_not_married\n",
    "\n",
    "# calculate the Disparate Impact\n",
    "disparate_impact_marital = p_married_yes / p_not_married_yes\n",
    "equal_opportunity_difference_marital = abs(p_married_yes - p_not_married_yes)\n",
    "\n",
    "# print the Disparate Impact and Equal Opportunity Difference\n",
    "# print('Marital group Disparate Impact:', disparate_impact_marital)\n",
    "# print('Marital group Equal Opportunity Difference:', equal_opportunity_difference_marital)"
   ]
  },
  {
   "attachments": {},
   "cell_type": "markdown",
   "metadata": {},
   "source": [
    "# Step 3 (3)\n",
    "Select a pre-processing bias mitigation algorithm to transform the original dataset (e.g. Reweighting, Disparate Impact Remover, etc.) as a function of one of your dependent variables."
   ]
  },
  {
   "cell_type": "code",
   "execution_count": 4,
   "metadata": {},
   "outputs": [
    {
     "name": "stderr",
     "output_type": "stream",
     "text": [
      "C:\\Users\\woshi\\AppData\\Local\\Temp/ipykernel_13672/1146626867.py:13: FutureWarning: The pandas.np module is deprecated and will be removed from pandas in a future version. Import numpy directly instead\n",
      "  lambda x: 'yes' if x == 'yes' and pd.np.random.rand() < unpriv_desired_rate else 'no'\n",
      "c:\\Python38\\lib\\site-packages\\pandas\\core\\indexing.py:1676: SettingWithCopyWarning: \n",
      "A value is trying to be set on a copy of a slice from a DataFrame.\n",
      "Try using .loc[row_indexer,col_indexer] = value instead\n",
      "\n",
      "See the caveats in the documentation: https://pandas.pydata.org/pandas-docs/stable/user_guide/indexing.html#returning-a-view-versus-a-copy\n",
      "  self._setitem_single_column(ilocs[0], value, pi)\n"
     ]
    }
   ],
   "source": [
    "# calculate the base rate of the privileged and unprivileged groups\n",
    "base_rate_priv = fairness_data.loc[fairness_data['age'] == 'old', 'y'].value_counts(normalize=True)['yes']\n",
    "base_rate_unpriv = fairness_data.loc[fairness_data['age'] == 'young', 'y'].value_counts(normalize=True)['yes']\n",
    "\n",
    "# calculate the ratio of the base rates\n",
    "base_rate_ratio = base_rate_priv / base_rate_unpriv\n",
    "\n",
    "# calculate the desired rate for the unprivileged group\n",
    "unpriv_desired_rate = fairness_data.loc[fairness_data['age'] == 'young', 'y'].value_counts(normalize=True)['yes'] * base_rate_ratio\n",
    "\n",
    "# adjust the y values for the unprivileged group\n",
    "fairness_data.loc[fairness_data['age'] == 'young', 'y'] = fairness_data.loc[fairness_data['age'] == 'young', 'y'].apply(\n",
    "    lambda x: 'yes' if x == 'yes' and pd.np.random.rand() < unpriv_desired_rate else 'no'\n",
    ")"
   ]
  },
  {
   "attachments": {},
   "cell_type": "markdown",
   "metadata": {},
   "source": [
    "# Step 3 (4)\n",
    "Use the two fairness metrics identified in 3.2 and compute the fairness metrics on the transformed dataset."
   ]
  },
  {
   "cell_type": "code",
   "execution_count": 5,
   "metadata": {},
   "outputs": [],
   "source": [
    "# create a confusion matrix\n",
    "confusion_matrix_age = pd.crosstab(fairness_data['age'], fairness_data['y'])\n",
    "\n",
    "# calculate the number of individuals in each group\n",
    "n_old = confusion_matrix_age.loc['old'].sum()\n",
    "n_young = confusion_matrix_age.loc['young'].sum()\n",
    "\n",
    "n_old_yes = confusion_matrix_age.loc['old', 'yes']\n",
    "n_young_yes = confusion_matrix_age.loc['young', 'yes']\n",
    "\n",
    "n_old_no = confusion_matrix_age.loc['old', 'no']\n",
    "n_young_no = confusion_matrix_age.loc['young', 'no']\n",
    "\n",
    "# calculate the overall proportion of individuals that were classified as 'yes'\n",
    "p_yes = (n_old_yes + n_young_yes) / (n_old + n_young)\n",
    "\n",
    "# calculate the proportion of individuals in each group that were classified as 'yes'\n",
    "p_old_yes = n_old_yes / n_old\n",
    "p_young_yes = n_young_yes / n_young\n",
    "\n",
    "# calculate metrics\n",
    "mitigated_disparate_impact_age = p_old_yes / p_young_yes\n",
    "mitigated_equal_opportunity_difference_age = abs(p_old_yes - p_young_yes)\n",
    "# print('Transformed dataset age group Disparate Impact:', mitigated_disparate_impact_age)\n",
    "# print('Transformed dataset age group Equal Opportunity Difference:', mitigated_equal_opportunity_difference_age)\n",
    "\n",
    "# create a confusion matrix\n",
    "confusion_matrix_marital = pd.crosstab(fairness_data['marital'], fairness_data['y'])\n",
    "\n",
    "# calculate the number of individuals in each group\n",
    "n_married = confusion_matrix_marital.loc['married'].sum()\n",
    "n_not_married = confusion_matrix_marital.loc['not married'].sum()\n",
    "\n",
    "n_married_yes = confusion_matrix_marital.loc['married', 'yes']\n",
    "n_not_married_yes = confusion_matrix_marital.loc['not married', 'yes']\n",
    "\n",
    "n_married_no = confusion_matrix_marital.loc['married', 'no']\n",
    "n_not_married_no = confusion_matrix_marital.loc['not married', 'no']\n",
    "\n",
    "# calculate the overall proportion of individuals that were classified as 'yes'\n",
    "p_yes = (n_married_yes + n_not_married_yes) / (n_married + n_not_married)\n",
    "\n",
    "# calculate the proportion of individuals in each group that were classified as 'yes'\n",
    "p_married_yes = n_married_yes / n_married\n",
    "p_not_married_yes = n_not_married_yes / n_not_married\n",
    "\n",
    "# calculate the Disparate Impact\n",
    "mitigated_disparate_impact_marital = p_married_yes / p_not_married_yes\n",
    "mitigated_equal_opportunity_difference_marital = abs(p_married_yes - p_not_married_yes)\n",
    "\n",
    "# print the Disparate Impact and Equal Opportunity Difference\n",
    "# print('Transformed dataset marital group Disparate Impact:', mitigated_disparate_impact_marital)\n",
    "# print('Transformed dataset marital group Equal Opportunity Difference:', mitigated_equal_opportunity_difference_marital)"
   ]
  },
  {
   "attachments": {},
   "cell_type": "markdown",
   "metadata": {},
   "source": [
    "# Step 3 Output"
   ]
  },
  {
   "cell_type": "code",
   "execution_count": 6,
   "metadata": {},
   "outputs": [
    {
     "name": "stdout",
     "output_type": "stream",
     "text": [
      "Protected classes: age and marital\n",
      "Privileged groups: age -> old (age>45); marital -> married\n",
      "Unprivileged groups: age -> young (age<=45); marital -> not married\n",
      "Fairness metrics selected: Disparate Impact and Equal Opportunity Difference.\n",
      "Age group Disparate Impact: 1.227822355148859\n",
      "Age group Equal Opportunity Difference: 0.024430949927147366\n",
      "Marital group Disparate Impact: 0.6997368374780941\n",
      "Marital group Equal Opportunity Difference: 0.04249664249149944\n",
      "Transformed dataset age group Disparate Impact: 9.308606692523906\n",
      "Transformed dataset age group Equal Opportunity Difference: 0.11752305519030526\n",
      "Transformed dataset marital group Disparate Impact: 1.1510611627776748\n",
      "Transformed dataset marital group Equal Opportunity Difference: 0.00727266618941242\n",
      "  Protected Class Privileged Group Unprivileged Group  \\\n",
      "0             Age              Old              Young   \n",
      "1         Marital          Married        Not Married   \n",
      "\n",
      "  Bias Mitigation Function  Disparate Impact  Equal Opportunity Difference  \\\n",
      "0              Reweighting          1.227822                      0.024431   \n",
      "1              Reweighting          0.699737                      0.042497   \n",
      "\n",
      "   Mitiaged Disparate Impact  Mitiaged Equal Opportunity Difference  \n",
      "0                   9.308607                               0.117523  \n",
      "1                   1.151061                               0.007273  \n"
     ]
    }
   ],
   "source": [
    "print('Protected classes: age and marital')\n",
    "print('Privileged groups: age -> old (age>45); marital -> married')\n",
    "print('Unprivileged groups: age -> young (age<=45); marital -> not married')\n",
    "\n",
    "print('Fairness metrics selected: Disparate Impact and Equal Opportunity Difference.')\n",
    "\n",
    "print('Age group Disparate Impact:', disparate_impact_age)\n",
    "print('Age group Equal Opportunity Difference:', equal_opportunity_difference_age)\n",
    "print('Marital group Disparate Impact:', disparate_impact_marital)\n",
    "print('Marital group Equal Opportunity Difference:', equal_opportunity_difference_marital)\n",
    "\n",
    "print('Transformed dataset age group Disparate Impact:', mitigated_disparate_impact_age)\n",
    "print('Transformed dataset age group Equal Opportunity Difference:', mitigated_equal_opportunity_difference_age)\n",
    "print('Transformed dataset marital group Disparate Impact:', mitigated_disparate_impact_marital)\n",
    "print('Transformed dataset marital group Equal Opportunity Difference:', mitigated_equal_opportunity_difference_marital)\n",
    "\n",
    "table = pd.DataFrame({'Protected Class':['Age',\"Marital\"], 'Privileged Group':['Old','Married'], 'Unprivileged Group':['Young','Not Married'], 'Bias Mitigation Function':['Reweighting','Reweighting'], 'Disparate Impact':[disparate_impact_age,disparate_impact_marital], \n",
    "                      'Equal Opportunity Difference':[equal_opportunity_difference_age,equal_opportunity_difference_marital], 'Mitiaged Disparate Impact':[mitigated_disparate_impact_age,mitigated_disparate_impact_marital], \n",
    "                      'Mitiaged Equal Opportunity Difference':[mitigated_equal_opportunity_difference_age,mitigated_equal_opportunity_difference_marital]})\n",
    "print(table)\n",
    "table.to_csv('step3.csv', index=False)"
   ]
  }
 ],
 "metadata": {
  "kernelspec": {
   "display_name": "Python 3",
   "language": "python",
   "name": "python3"
  },
  "language_info": {
   "codemirror_mode": {
    "name": "ipython",
    "version": 3
   },
   "file_extension": ".py",
   "mimetype": "text/x-python",
   "name": "python",
   "nbconvert_exporter": "python",
   "pygments_lexer": "ipython3",
   "version": "3.8.5"
  },
  "orig_nbformat": 4
 },
 "nbformat": 4,
 "nbformat_minor": 2
}
