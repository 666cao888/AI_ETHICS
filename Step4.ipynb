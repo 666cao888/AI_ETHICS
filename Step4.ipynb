{
 "cells": [
  {
   "cell_type": "markdown",
   "id": "53f23e08",
   "metadata": {},
   "source": [
    "# Step 4"
   ]
  },
  {
   "cell_type": "code",
   "execution_count": 1,
   "id": "58f62bb4",
   "metadata": {},
   "outputs": [],
   "source": [
    "import pandas as pd\n",
    "import matplotlib.pyplot as plt\n",
    "import numpy as np\n",
    "from sklearn.linear_model import LogisticRegression\n",
    "from sklearn.tree import DecisionTreeClassifier\n",
    "from sklearn.model_selection import train_test_split\n"
   ]
  },
  {
   "cell_type": "markdown",
   "id": "71479b56",
   "metadata": {},
   "source": [
    "1) Randomly split your original dataset into training and testing datasets"
   ]
  },
  {
   "cell_type": "code",
   "execution_count": 2,
   "id": "7b941103",
   "metadata": {},
   "outputs": [
    {
     "data": {
      "text/html": [
       "<div>\n",
       "<style scoped>\n",
       "    .dataframe tbody tr th:only-of-type {\n",
       "        vertical-align: middle;\n",
       "    }\n",
       "\n",
       "    .dataframe tbody tr th {\n",
       "        vertical-align: top;\n",
       "    }\n",
       "\n",
       "    .dataframe thead th {\n",
       "        text-align: right;\n",
       "    }\n",
       "</style>\n",
       "<table border=\"1\" class=\"dataframe\">\n",
       "  <thead>\n",
       "    <tr style=\"text-align: right;\">\n",
       "      <th></th>\n",
       "      <th>age</th>\n",
       "      <th>job</th>\n",
       "      <th>marital</th>\n",
       "      <th>education</th>\n",
       "      <th>default</th>\n",
       "      <th>balance</th>\n",
       "      <th>housing</th>\n",
       "      <th>loan</th>\n",
       "      <th>contact</th>\n",
       "      <th>day</th>\n",
       "      <th>month</th>\n",
       "      <th>duration</th>\n",
       "      <th>campaign</th>\n",
       "      <th>pdays</th>\n",
       "      <th>previous</th>\n",
       "      <th>poutcome</th>\n",
       "      <th>y</th>\n",
       "    </tr>\n",
       "  </thead>\n",
       "  <tbody>\n",
       "    <tr>\n",
       "      <th>0</th>\n",
       "      <td>30</td>\n",
       "      <td>unemployed</td>\n",
       "      <td>married</td>\n",
       "      <td>primary</td>\n",
       "      <td>no</td>\n",
       "      <td>1787</td>\n",
       "      <td>no</td>\n",
       "      <td>no</td>\n",
       "      <td>cellular</td>\n",
       "      <td>19</td>\n",
       "      <td>oct</td>\n",
       "      <td>79</td>\n",
       "      <td>1</td>\n",
       "      <td>-1</td>\n",
       "      <td>0</td>\n",
       "      <td>unknown</td>\n",
       "      <td>no</td>\n",
       "    </tr>\n",
       "    <tr>\n",
       "      <th>1</th>\n",
       "      <td>33</td>\n",
       "      <td>services</td>\n",
       "      <td>married</td>\n",
       "      <td>secondary</td>\n",
       "      <td>no</td>\n",
       "      <td>4789</td>\n",
       "      <td>yes</td>\n",
       "      <td>yes</td>\n",
       "      <td>cellular</td>\n",
       "      <td>11</td>\n",
       "      <td>may</td>\n",
       "      <td>220</td>\n",
       "      <td>1</td>\n",
       "      <td>339</td>\n",
       "      <td>4</td>\n",
       "      <td>failure</td>\n",
       "      <td>no</td>\n",
       "    </tr>\n",
       "    <tr>\n",
       "      <th>2</th>\n",
       "      <td>35</td>\n",
       "      <td>management</td>\n",
       "      <td>single</td>\n",
       "      <td>tertiary</td>\n",
       "      <td>no</td>\n",
       "      <td>1350</td>\n",
       "      <td>yes</td>\n",
       "      <td>no</td>\n",
       "      <td>cellular</td>\n",
       "      <td>16</td>\n",
       "      <td>apr</td>\n",
       "      <td>185</td>\n",
       "      <td>1</td>\n",
       "      <td>330</td>\n",
       "      <td>1</td>\n",
       "      <td>failure</td>\n",
       "      <td>no</td>\n",
       "    </tr>\n",
       "    <tr>\n",
       "      <th>3</th>\n",
       "      <td>30</td>\n",
       "      <td>management</td>\n",
       "      <td>married</td>\n",
       "      <td>tertiary</td>\n",
       "      <td>no</td>\n",
       "      <td>1476</td>\n",
       "      <td>yes</td>\n",
       "      <td>yes</td>\n",
       "      <td>unknown</td>\n",
       "      <td>3</td>\n",
       "      <td>jun</td>\n",
       "      <td>199</td>\n",
       "      <td>4</td>\n",
       "      <td>-1</td>\n",
       "      <td>0</td>\n",
       "      <td>unknown</td>\n",
       "      <td>no</td>\n",
       "    </tr>\n",
       "    <tr>\n",
       "      <th>4</th>\n",
       "      <td>59</td>\n",
       "      <td>blue-collar</td>\n",
       "      <td>married</td>\n",
       "      <td>secondary</td>\n",
       "      <td>no</td>\n",
       "      <td>0</td>\n",
       "      <td>yes</td>\n",
       "      <td>no</td>\n",
       "      <td>unknown</td>\n",
       "      <td>5</td>\n",
       "      <td>may</td>\n",
       "      <td>226</td>\n",
       "      <td>1</td>\n",
       "      <td>-1</td>\n",
       "      <td>0</td>\n",
       "      <td>unknown</td>\n",
       "      <td>no</td>\n",
       "    </tr>\n",
       "  </tbody>\n",
       "</table>\n",
       "</div>"
      ],
      "text/plain": [
       "   age          job  marital  education default  balance housing loan  \\\n",
       "0   30   unemployed  married    primary      no     1787      no   no   \n",
       "1   33     services  married  secondary      no     4789     yes  yes   \n",
       "2   35   management   single   tertiary      no     1350     yes   no   \n",
       "3   30   management  married   tertiary      no     1476     yes  yes   \n",
       "4   59  blue-collar  married  secondary      no        0     yes   no   \n",
       "\n",
       "    contact  day month  duration  campaign  pdays  previous poutcome   y  \n",
       "0  cellular   19   oct        79         1     -1         0  unknown  no  \n",
       "1  cellular   11   may       220         1    339         4  failure  no  \n",
       "2  cellular   16   apr       185         1    330         1  failure  no  \n",
       "3   unknown    3   jun       199         4     -1         0  unknown  no  \n",
       "4   unknown    5   may       226         1     -1         0  unknown  no  "
      ]
     },
     "execution_count": 2,
     "metadata": {},
     "output_type": "execute_result"
    }
   ],
   "source": [
    "raw_data = pd.read_csv(\"Data/bank.csv\", delimiter=\";\")\n",
    "raw_data.head()"
   ]
  },
  {
   "cell_type": "code",
   "execution_count": 3,
   "id": "766ec4fc",
   "metadata": {},
   "outputs": [
    {
     "name": "stdout",
     "output_type": "stream",
     "text": [
      "     age      marital   y\n",
      "0  young      married  no\n",
      "1  young      married  no\n",
      "2  young  not married  no\n",
      "3  young      married  no\n",
      "4    old      married  no\n",
      "   age          job  marital  education default  balance housing loan  \\\n",
      "0   30   unemployed  married    primary      no     1787      no   no   \n",
      "1   33     services  married  secondary      no     4789     yes  yes   \n",
      "2   35   management   single   tertiary      no     1350     yes   no   \n",
      "3   30   management  married   tertiary      no     1476     yes  yes   \n",
      "4   59  blue-collar  married  secondary      no        0     yes   no   \n",
      "\n",
      "    contact  day month  duration  campaign  pdays  previous poutcome   y  \\\n",
      "0  cellular   19   oct        79         1     -1         0  unknown  no   \n",
      "1  cellular   11   may       220         1    339         4  failure  no   \n",
      "2  cellular   16   apr       185         1    330         1  failure  no   \n",
      "3   unknown    3   jun       199         4     -1         0  unknown  no   \n",
      "4   unknown    5   may       226         1     -1         0  unknown  no   \n",
      "\n",
      "   age_p  marital_p  \n",
      "0      1          0  \n",
      "1      1          0  \n",
      "2      1          1  \n",
      "3      1          0  \n",
      "4      0          0  \n"
     ]
    },
    {
     "name": "stderr",
     "output_type": "stream",
     "text": [
      "/var/folders/1n/5cgclwls7wx_8nx5z8v7lv700000gn/T/ipykernel_6143/3206036445.py:2: SettingWithCopyWarning: \n",
      "A value is trying to be set on a copy of a slice from a DataFrame.\n",
      "Try using .loc[row_indexer,col_indexer] = value instead\n",
      "\n",
      "See the caveats in the documentation: https://pandas.pydata.org/pandas-docs/stable/user_guide/indexing.html#returning-a-view-versus-a-copy\n",
      "  fairness_data['age'] = fairness_data['age'].apply(lambda x: 'old' if x > 45 else 'young')\n",
      "/var/folders/1n/5cgclwls7wx_8nx5z8v7lv700000gn/T/ipykernel_6143/3206036445.py:3: SettingWithCopyWarning: \n",
      "A value is trying to be set on a copy of a slice from a DataFrame.\n",
      "Try using .loc[row_indexer,col_indexer] = value instead\n",
      "\n",
      "See the caveats in the documentation: https://pandas.pydata.org/pandas-docs/stable/user_guide/indexing.html#returning-a-view-versus-a-copy\n",
      "  fairness_data['marital'] = fairness_data['marital'].apply(lambda x: 'married' if x == 'married' else 'not married')\n"
     ]
    }
   ],
   "source": [
    "fairness_data = raw_data[['age', 'marital', 'y']]\n",
    "fairness_data['age'] = fairness_data['age'].apply(lambda x: 'old' if x > 45 else 'young')\n",
    "fairness_data['marital'] = fairness_data['marital'].apply(lambda x: 'married' if x == 'married' else 'not married')\n",
    "print(fairness_data.head())\n",
    "\n",
    "#combine the priviledge/unpriviledge group into raw data to expedite later calculation\n",
    "raw_data['age_p'] = fairness_data['age'].map({'old':0,'young':1})\n",
    "raw_data['marital_p'] = fairness_data['marital'].map({'married':0,'not married':1})\n",
    "print(raw_data.head())\n"
   ]
  },
  {
   "cell_type": "code",
   "execution_count": 4,
   "id": "f2e8543e",
   "metadata": {},
   "outputs": [],
   "source": [
    "orig_x = raw_data[['age_p','marital_p','balance','day','duration','campaign','pdays','previous']]\n",
    "orig_y = raw_data['y'].map({'no':0,'yes':1})\n",
    "orig_x_train, orig_x_test, orig_y_train, orig_y_test = train_test_split(orig_x, orig_y,test_size=0.5)"
   ]
  },
  {
   "cell_type": "markdown",
   "id": "fea7bcd4",
   "metadata": {},
   "source": [
    "2) Randomly split your transformed dataset into training and testing datasets (from Step 3.3)"
   ]
  },
  {
   "cell_type": "code",
   "execution_count": 5,
   "id": "9e412819",
   "metadata": {},
   "outputs": [
    {
     "name": "stderr",
     "output_type": "stream",
     "text": [
      "/var/folders/1n/5cgclwls7wx_8nx5z8v7lv700000gn/T/ipykernel_6143/2831191795.py:14: FutureWarning: The pandas.np module is deprecated and will be removed from pandas in a future version. Import numpy directly instead\n",
      "  lambda x: 'yes' if x == 'yes' and pd.np.random.rand() < unpriv_desired_rate else 'no'\n",
      "/Users/bellayue/opt/anaconda3/lib/python3.9/site-packages/pandas/core/indexing.py:1773: SettingWithCopyWarning: \n",
      "A value is trying to be set on a copy of a slice from a DataFrame.\n",
      "Try using .loc[row_indexer,col_indexer] = value instead\n",
      "\n",
      "See the caveats in the documentation: https://pandas.pydata.org/pandas-docs/stable/user_guide/indexing.html#returning-a-view-versus-a-copy\n",
      "  self._setitem_single_column(ilocs[0], value, pi)\n"
     ]
    },
    {
     "data": {
      "text/html": [
       "<div>\n",
       "<style scoped>\n",
       "    .dataframe tbody tr th:only-of-type {\n",
       "        vertical-align: middle;\n",
       "    }\n",
       "\n",
       "    .dataframe tbody tr th {\n",
       "        vertical-align: top;\n",
       "    }\n",
       "\n",
       "    .dataframe thead th {\n",
       "        text-align: right;\n",
       "    }\n",
       "</style>\n",
       "<table border=\"1\" class=\"dataframe\">\n",
       "  <thead>\n",
       "    <tr style=\"text-align: right;\">\n",
       "      <th></th>\n",
       "      <th>age_p</th>\n",
       "      <th>marital_p</th>\n",
       "      <th>balance</th>\n",
       "      <th>day</th>\n",
       "      <th>duration</th>\n",
       "      <th>campaign</th>\n",
       "      <th>pdays</th>\n",
       "      <th>previous</th>\n",
       "    </tr>\n",
       "  </thead>\n",
       "  <tbody>\n",
       "    <tr>\n",
       "      <th>1073</th>\n",
       "      <td>1</td>\n",
       "      <td>1</td>\n",
       "      <td>726</td>\n",
       "      <td>16</td>\n",
       "      <td>39</td>\n",
       "      <td>1</td>\n",
       "      <td>342</td>\n",
       "      <td>3</td>\n",
       "    </tr>\n",
       "    <tr>\n",
       "      <th>2145</th>\n",
       "      <td>1</td>\n",
       "      <td>0</td>\n",
       "      <td>-363</td>\n",
       "      <td>12</td>\n",
       "      <td>340</td>\n",
       "      <td>2</td>\n",
       "      <td>-1</td>\n",
       "      <td>0</td>\n",
       "    </tr>\n",
       "    <tr>\n",
       "      <th>2139</th>\n",
       "      <td>1</td>\n",
       "      <td>0</td>\n",
       "      <td>0</td>\n",
       "      <td>9</td>\n",
       "      <td>236</td>\n",
       "      <td>1</td>\n",
       "      <td>-1</td>\n",
       "      <td>0</td>\n",
       "    </tr>\n",
       "    <tr>\n",
       "      <th>2213</th>\n",
       "      <td>1</td>\n",
       "      <td>1</td>\n",
       "      <td>822</td>\n",
       "      <td>27</td>\n",
       "      <td>184</td>\n",
       "      <td>1</td>\n",
       "      <td>91</td>\n",
       "      <td>2</td>\n",
       "    </tr>\n",
       "    <tr>\n",
       "      <th>714</th>\n",
       "      <td>0</td>\n",
       "      <td>1</td>\n",
       "      <td>15311</td>\n",
       "      <td>29</td>\n",
       "      <td>157</td>\n",
       "      <td>6</td>\n",
       "      <td>-1</td>\n",
       "      <td>0</td>\n",
       "    </tr>\n",
       "  </tbody>\n",
       "</table>\n",
       "</div>"
      ],
      "text/plain": [
       "      age_p  marital_p  balance  day  duration  campaign  pdays  previous\n",
       "1073      1          1      726   16        39         1    342         3\n",
       "2145      1          0     -363   12       340         2     -1         0\n",
       "2139      1          0        0    9       236         1     -1         0\n",
       "2213      1          1      822   27       184         1     91         2\n",
       "714       0          1    15311   29       157         6     -1         0"
      ]
     },
     "execution_count": 5,
     "metadata": {},
     "output_type": "execute_result"
    }
   ],
   "source": [
    "#recreate the transformed dataset from step 3.3\n",
    "# calculate the base rate of the privileged and unprivileged groups\n",
    "base_rate_priv = fairness_data.loc[fairness_data['age'] == 'old', 'y'].value_counts(normalize=True)['yes']\n",
    "base_rate_unpriv = fairness_data.loc[fairness_data['age'] == 'young', 'y'].value_counts(normalize=True)['yes']\n",
    "\n",
    "# calculate the ratio of the base rates\n",
    "base_rate_ratio = base_rate_priv / base_rate_unpriv\n",
    "\n",
    "# calculate the desired rate for the unprivileged group\n",
    "unpriv_desired_rate = fairness_data.loc[fairness_data['age'] == 'young', 'y'].value_counts(normalize=True)['yes'] * base_rate_ratio\n",
    "\n",
    "# adjust the y values for the unprivileged group\n",
    "fairness_data.loc[fairness_data['age'] == 'young', 'y'] = fairness_data.loc[fairness_data['age'] == 'young', 'y'].apply(\n",
    "    lambda x: 'yes' if x == 'yes' and pd.np.random.rand() < unpriv_desired_rate else 'no'\n",
    ")\n",
    "\n",
    "tran_x = raw_data[['age_p','marital_p','balance','day','duration','campaign','pdays','previous']]\n",
    "tran_y = fairness_data['y'].map({'no':0,'yes':1})\n",
    "tran_x_train, tran_x_test, tran_y_train, tran_y_test = train_test_split(tran_x, tran_y,test_size=0.5)\n",
    "\n",
    "#check the independent variable\n",
    "tran_x_test.head()"
   ]
  },
  {
   "cell_type": "markdown",
   "id": "f649e532",
   "metadata": {},
   "source": [
    "3) Train a classifier using the original training dataset from Step 4.1; select one of your dependent variables as the output label to train your classifier."
   ]
  },
  {
   "cell_type": "code",
   "execution_count": 6,
   "id": "febae39a",
   "metadata": {},
   "outputs": [],
   "source": [
    "clf = LogisticRegression(solver='liblinear', random_state=0)\n",
    "# Train Decision Tree Classifer\n",
    "clf = clf.fit(orig_x_train, orig_y_train)\n",
    "\n",
    "#Predict the response for test dataset\n",
    "orig_y_pred = clf.predict(orig_x_test)\n"
   ]
  },
  {
   "cell_type": "markdown",
   "id": "cb8dce17",
   "metadata": {},
   "source": [
    "4) Train a classifier using the transformed training dataset from Step 4.2; select one of your dependent variables as the output label to train your classifier."
   ]
  },
  {
   "cell_type": "code",
   "execution_count": 7,
   "id": "41620c4d",
   "metadata": {},
   "outputs": [],
   "source": [
    "#train the model using the transformed dataset\n",
    "model_tran = LogisticRegression(solver='liblinear', random_state=0)\n",
    "\n",
    "#exclude the new added columns from the training process\n",
    "model_tran_fit = model_tran.fit(tran_x_train, tran_y_train)\n",
    "tran_y_pred= model_tran_fit.predict(tran_x_test)"
   ]
  },
  {
   "cell_type": "markdown",
   "id": "f0310358",
   "metadata": {},
   "source": [
    "5) Select the privileged/unprivileged groups associated with one of your protected class variables (from Step 3.1); Use the two fairness metrics identified in Step 3.2 and and compute the fairness metrics for the classifier output associated with the original testing dataset and the transformed testing dataset"
   ]
  },
  {
   "cell_type": "code",
   "execution_count": 8,
   "id": "70ddb9c1",
   "metadata": {},
   "outputs": [
    {
     "name": "stdout",
     "output_type": "stream",
     "text": [
      "Classifier output:\n",
      "col_0   no  yes\n",
      "age_p          \n",
      "old    347    8\n",
      "young  745   27\n",
      "Age group Disparate Impact: 0.6443401147626501\n",
      "Age group Equal Opportunity Difference: 0.012438881996643069\n"
     ]
    }
   ],
   "source": [
    "#choose age for this question\n",
    "confusion_matrix_age_orig = pd.crosstab(orig_x_test['age_p'].map({0:'old',1:'young'}), pd.Series(orig_y_pred).map({0:'no',1:'yes'}))\n",
    "print('Classifier output:')\n",
    "print(confusion_matrix_age_orig)\n",
    "# calculate the number of individuals in each group\n",
    "n_old = confusion_matrix_age_orig.loc['old'].sum()\n",
    "n_young = confusion_matrix_age_orig.loc['young'].sum()\n",
    "\n",
    "n_old_yes = confusion_matrix_age_orig.loc['old', 'yes']\n",
    "n_young_yes = confusion_matrix_age_orig.loc['young', 'yes']\n",
    "\n",
    "n_old_no = confusion_matrix_age_orig.loc['old', 'no']\n",
    "n_young_no = confusion_matrix_age_orig.loc['young', 'no']\n",
    "\n",
    "# calculate the overall proportion of individuals that were classified as 'yes'\n",
    "p_yes = (n_old_yes + n_young_yes) / (n_old + n_young)\n",
    "\n",
    "# calculate the proportion of individuals in each group that were classified as 'yes'\n",
    "p_old_yes = n_old_yes / n_old\n",
    "p_young_yes = n_young_yes / n_young\n",
    "\n",
    "# calculate metrics\n",
    "disparate_impact_age_orig = p_old_yes / p_young_yes\n",
    "equal_opportunity_difference_age_orig = abs(p_old_yes - p_young_yes)\n",
    "\n",
    "print('Age group Disparate Impact:', disparate_impact_age_orig)\n",
    "print('Age group Equal Opportunity Difference:', equal_opportunity_difference_age_orig)"
   ]
  },
  {
   "cell_type": "code",
   "execution_count": 9,
   "id": "21b4f855",
   "metadata": {},
   "outputs": [
    {
     "name": "stdout",
     "output_type": "stream",
     "text": [
      "Classifier output:\n",
      "col_0   no  yes\n",
      "age_p          \n",
      "old    351    4\n",
      "young  756    8\n",
      "Age group Disparate Impact: 1.076056338028169\n",
      "Age group Equal Opportunity Difference: 0.0007964014453211415\n"
     ]
    }
   ],
   "source": [
    "confusion_matrix_age_trans = pd.crosstab(tran_x_test['age_p'].map({0:'old',1:'young'}), pd.Series(tran_y_pred).map({0:'no',1:'yes'}))\n",
    "print('Classifier output:')\n",
    "print(confusion_matrix_age_trans)\n",
    "# calculate the number of individuals in each group\n",
    "n_old = confusion_matrix_age_trans.loc['old'].sum()\n",
    "n_young = confusion_matrix_age_trans.loc['young'].sum()\n",
    "\n",
    "n_old_yes = confusion_matrix_age_trans.loc['old', 'yes']\n",
    "n_young_yes = confusion_matrix_age_trans.loc['young', 'yes']\n",
    "\n",
    "n_old_no = confusion_matrix_age_trans.loc['old', 'no']\n",
    "n_young_no = confusion_matrix_age_trans.loc['young', 'no']\n",
    "\n",
    "# calculate the overall proportion of individuals that were classified as 'yes'\n",
    "p_yes = (n_old_yes + n_young_yes) / (n_old + n_young)\n",
    "\n",
    "# calculate the proportion of individuals in each group that were classified as 'yes'\n",
    "p_old_yes = n_old_yes / n_old\n",
    "p_young_yes = n_young_yes / n_young\n",
    "\n",
    "# calculate metrics\n",
    "disparate_impact_age_tran = p_old_yes / p_young_yes\n",
    "equal_opportunity_difference_age_tran = abs(p_old_yes - p_young_yes)\n",
    "\n",
    "print('Age group Disparate Impact:', disparate_impact_age_tran)\n",
    "print('Age group Equal Opportunity Difference:', equal_opportunity_difference_age_tran)"
   ]
  },
  {
   "cell_type": "markdown",
   "id": "c84350d6",
   "metadata": {},
   "source": [
    "6) For each fairness metric, in table format, indicate if there were any differences in the outcomes for the privileged versus unprivileged group. Was there a positive change, negative change, or no change on that fairness metric after transforming the dataset (from Step 3.4)? Was there a positive change, negative change, or no change on that fairness metric after training the classifier - with respect to the original testing dataset and the transformed testing dataset? [Note: Use your subjective opinion]"
   ]
  },
  {
   "cell_type": "code",
   "execution_count": 10,
   "id": "bd222940",
   "metadata": {},
   "outputs": [
    {
     "name": "stdout",
     "output_type": "stream",
     "text": [
      "Privileged groups: age -> old (age>45)\n",
      "Unprivileged groups: age -> young (age<=45)\n",
      "  Protected Class Privileged Group Unprivileged Group  Disparate Impact  \\\n",
      "0             Age              Old              Young           0.64434   \n",
      "\n",
      "   Equal Opportunity Difference  Disparate Impact after Transform  \\\n",
      "0                      0.012439                          1.076056   \n",
      "\n",
      "   Equal Opportunity Difference after Transform  \n",
      "0                                      0.000796  \n"
     ]
    }
   ],
   "source": [
    "print('Privileged groups: age -> old (age>45)')\n",
    "print('Unprivileged groups: age -> young (age<=45)')\n",
    "\n",
    "table = pd.DataFrame({'Protected Class':['Age'], 'Privileged Group':['Old'], 'Unprivileged Group':['Young'], 'Disparate Impact':[disparate_impact_age_orig], \n",
    "                      'Equal Opportunity Difference':[equal_opportunity_difference_age_orig], 'Disparate Impact after Transform':[disparate_impact_age_tran], \n",
    "                      'Equal Opportunity Difference after Transform':[equal_opportunity_difference_age_tran]})\n",
    "print(table)"
   ]
  },
  {
   "cell_type": "markdown",
   "id": "287ded27",
   "metadata": {},
   "source": [
    "There is differences in the outcome for the priviledged versus unprivileged group. After transforming the dataset, there are negative change on the fairness metrics with respect to the original testing and the transformed testing dataset. As you can observe for the output table above, the disparate impact increased by a lot after transformation. However, the equal oppotunity difference is reduced after tranformation."
   ]
  },
  {
   "cell_type": "code",
   "execution_count": null,
   "id": "c4a70fbc",
   "metadata": {},
   "outputs": [],
   "source": []
  }
 ],
 "metadata": {
  "kernelspec": {
   "display_name": "Python 3 (ipykernel)",
   "language": "python",
   "name": "python3"
  },
  "language_info": {
   "codemirror_mode": {
    "name": "ipython",
    "version": 3
   },
   "file_extension": ".py",
   "mimetype": "text/x-python",
   "name": "python",
   "nbconvert_exporter": "python",
   "pygments_lexer": "ipython3",
   "version": "3.9.7"
  }
 },
 "nbformat": 4,
 "nbformat_minor": 5
}
